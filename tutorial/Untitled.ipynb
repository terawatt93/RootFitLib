{
 "cells": [
  {
   "cell_type": "code",
   "execution_count": 3,
   "id": "e76439ad-14a9-406c-b94c-5ffac98e1801",
   "metadata": {},
   "outputs": [],
   "source": [
    "TString function_str;\n",
    "/*\n",
    "function_str+=TString::Format(\"FitFunction gausn(0)+pol1(3) %f %f;\",1300.0,1350.0);//форматированный ввод: имя(пробел)функция(пробел)левая_граница(пробел)правая_граница\n",
    "function_str+=TString::Format(\" 0 %f %f %f limited;\",spectrum.GetMaximum(),0.0,1.0e6);// порядок параметров: номер, значение, минимальное значение, максимальное значение, если есть ограничения, то написать \"limited\" \n",
    "function_str+=TString::Format(\" 1 %f %f %f limited;\",1332.0,1310.0,1350.0);\n",
    "function_str+=TString::Format(\" 2 %f %f %f limited;\",2.0,0.0,20.0);\n",
    "function_str+=TString::Format(\" 3 %f ;\",0.0);\n",
    "function_str+=TString::Format(\" 4 %f\",0.0);*/\n"
   ]
  },
  {
   "cell_type": "code",
   "execution_count": null,
   "id": "13c03d50-5ce4-4f4b-afdb-cd5c066f1686",
   "metadata": {},
   "outputs": [],
   "source": []
  }
 ],
 "metadata": {
  "kernelspec": {
   "display_name": "ROOT C++",
   "language": "c++",
   "name": "root"
  },
  "language_info": {
   "codemirror_mode": "text/x-c++src",
   "file_extension": ".C",
   "mimetype": " text/x-c++src",
   "name": "c++"
  }
 },
 "nbformat": 4,
 "nbformat_minor": 5
}
